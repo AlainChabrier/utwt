{
 "cells": [
  {
   "cell_type": "markdown",
   "metadata": {},
   "source": [
    "# <span style=\"color:blue\">How to make targeted offers to customers?</span>\n",
    "## <span style=\"color:blue\">Marketing Campaign Optimization</span>\n",
    "\n",
    "This notebook is part of the [Prescriptive Analytics for Python](https://rawgit.com/IBMDecisionOptimization/docplex-doc/master/docs/index.html)\n",
    "\n",
    "### <span style=\"color:blue\">Describe the business problem</span>\n",
    "* This example is based on a fictional banking company. \n",
    "* The marketing department wants to achieve more profitable results in future campaigns by matching the right offer of financial services to each customer. \n",
    "\n",
    "\n",
    "* **The data science team needs to compute this best plan: it first predicted the current customer behavior with SPSS and stored the data in a CSV.**\n",
    "* **Now they need to apply optimization on this dataset to determine the next best action.**\n",
    "\n",
    "\n",
    "* The Self-Learning Response Model (SLRM) node from SPSS Modeler enables you to build a model that you can continually update. Such updates are useful in building a model that assists with predicting which offers are most appropriate for customers and the probability of the offers being accepted. These sorts of models are most beneficial in customer relationship management, such as marketing applications or call centers.\n",
    "* Specifically, the example uses a Self-Learning Response Model to identify the characteristics of customers who are most likely to respond favorably based on previous offers and responses and to promote the best current offer based on the results.\n",
    "<br>\n",
    "\n",
    "A set of business constraints have to be respected:\n",
    "\n",
    "* We have a limited budget to run a marketing campaign based on \"gifts\", \"newsletter\", \"seminar\"...\n",
    "   * Each has a cost and an impact (weight) \n",
    "* We want to determine which is the unique best way to contact the customers.\n",
    "* We need to identify which customers to contact.\n",
    "\n",
    "***"
   ]
  },
  {
   "cell_type": "markdown",
   "metadata": {},
   "source": [
    "## <span style=\"color:blue\">Why are Prescriptive Analytics useful?</span>\n",
    "### <span style=\"color:blue\">Solving a very simple Marketing Campaign</span>\n",
    "\n",
    "* For each possible <b>campaign</b>, a <b>cost</b> C and an <b>expected return</b> R are provided\n",
    "* We have a <b>limited budget</b> to spend efficiently.\n",
    "\n",
    "<table align=left>\n",
    "<tr>\n",
    "<td>\n",
    "<table>\n",
    "<tr><th>Revenue</th><th> Cost </th></tr>\n",
    "<tr><td> 39 </td><td> 20 </td></tr>\n",
    "<tr><td> 20 </td><td> 11 </td></tr>\n",
    "<tr><td> 22 </td><td> 12 </td></tr>\n",
    "<tr><td> 26 </td><td> 14 </td></tr>\n",
    "</table>\n",
    "</td>\n",
    "<td>                    </td>\n",
    "<td>\n",
    "<table>\n",
    "<tr><th> Revenue </th><th> Cost </th></tr>\n",
    "<tr><td> 36 </td><td> 20 </td></tr>\n",
    "<tr><td> 30 </td><td> 16 </td></tr>\n",
    "<tr><td> 17 </td><td> 9 </td></tr>\n",
    "<tr><td> 34 </td><td> 19 </td></tr>\n",
    "</table>\n",
    "</td>\n",
    " </tr>\n",
    "<tr><h6> How do you spend your $100? </h6></tr>\n",
    "</table>\n",
    "\n",
    "\n"
   ]
  },
  {
   "cell_type": "markdown",
   "metadata": {},
   "source": [
    "#### Trying a custom algorithm\n",
    "* What about the following rule (heuristic):\n",
    "   * Sort campaigns according to decreasing return to cost ratio R / C to have the \"best\" ROI at first.\n",
    "   * Choose campaigns in this order until the $100k budget is exhausted\n"
   ]
  },
  {
   "cell_type": "markdown",
   "metadata": {},
   "source": [
    "<table align=left>\n",
    "<tr><th>Revenue</th><th> Cost </th><th> Ratio </th></tr>\n",
    "<tr><td> <b>39</b> </td><td> <b>20</b> </td><td> <b>1.95</b> </td></tr>\n",
    "<tr><td> <b>17</b> </td><td> <b>9</b> </td><td> <b>1.89</b> </td></tr>\n",
    "<tr><td> <b>30</b> </td><td> <b>16</b> </td><td> <b>1.88</b> </td></tr>\n",
    "<tr><td> <b>26</b> </td><td> <b>14</b> </td><td> <b>1.86</b> </td></tr>\n",
    "<tr><td> <b>22</b> </td><td> <b>12</b> </td><td> <b>1.83</b> </td></tr>\n",
    "<tr><td> <b>20</b> </td><td> <b>11</b> </td><td> <b>1.82</b> </td></tr>\n",
    "<tr><td> 36 </td><td> 20 </td><td> 1.80 </td></tr>\n",
    "<tr><td> 34 </td><td> 19 </td><td> 1.19 </td></tr>\n",
    "</table>"
   ]
  },
  {
   "cell_type": "markdown",
   "metadata": {},
   "source": [
    "* You will end up selecting the bold columns, with a revenue of 154 for a cost of 82.\n",
    "* <b>Your profit is \\$72 </b>"
   ]
  },
  {
   "cell_type": "markdown",
   "metadata": {},
   "source": [
    "#### Using prescriptive analytics\n",
    "* Using CPLEX algorithm, you will be able to express your business constraints as mathematical sentences, then CPLEX will compute the values of decision variables (should I select an item or not?) mapped to the data.\n",
    "* Asking for the maximum ROI, you will get a different <b>optimal</b> solution\n",
    "* You could write a custom algorithm to the combinations (handle holes)… and search for the best solution but these are usually not trivial, time-consuming to implement whereas solving your problem with CPLEX Optimizer, you benefit from already implemented search algorithm that have been proven very efficient."
   ]
  },
  {
   "cell_type": "markdown",
   "metadata": {},
   "source": [
    "<table align=left>\n",
    "<tr><th>Revenue</th><th> Cost </th><th> Ratio </th></tr>\n",
    "<tr><td> <b>39</b> </td><td> <b>20</b> </td><td> <b>1.95</b> </td></tr>\n",
    "<tr><td> 17 </td><td> 9 </td><td> 1.89 </td></tr>\n",
    "<tr><td> <b>30</b> </td><td> <b>16</b> </td><td> <b>1.88</b> </td></tr>\n",
    "<tr><td> <b>26</b> </td><td> <b>14</b> </td><td> <b>1.86</b> </td></tr>\n",
    "<tr><td> 22 </td><td> 12 </td><td> 1.83 </td></tr>\n",
    "<tr><td> <b>20</b> </td><td> <b>11</b> </td><td> <b>1.82</b> </td></tr>\n",
    "<tr><td> <b>36</b> </td><td> <b>20</b> </td><td> <b>1.80</b> </td></tr>\n",
    "<tr><td> <b>34</b> </td><td> <b>19</b> </td><td> <b>1.79</b> </td></tr>\n",
    "</table>"
   ]
  },
  {
   "cell_type": "markdown",
   "metadata": {},
   "source": [
    "* You will end up selecting the bold columns, with a revenue of 185 for a cost of 100.\n",
    "\n",
    "* <b> Your profit is \\$85  (\\$13 more than previously) </b>"
   ]
  },
  {
   "cell_type": "markdown",
   "metadata": {},
   "source": [
    "### <span style=\"color:blue\">Conclusion</span>\n",
    "* This kind of problem is highly combinatorial, that is it cannot be solved by hand or with a simple custom algorithm.\n",
    "* In general, a SPSS-like algorithm will give you a full list of actions with their advantages and drawbacks. But in real life, you cannot put them all into action, because of limited budget, time...\n",
    "\n",
    "* Prescriptive analytics is the next step on the path to insight-based actions. It creates value through <b>synergy with predictive analytics</b>, which analyzes data to predict future outcomes.\n",
    "* Prescriptive analytics takes that insight to the next level by <b>suggesting the optimal way to handle that future situation</b>.\n",
    "\n",
    "* One of the most powerful aspects of mathematical optimization is that <b>you don't need to know how to solve a problem to get a solution, the engine will provide it to you</b>\n",
    "* <b>You “just” need to express the problem using a non-ambiguous mathematical language</b> (i.e. you need to write a mathematical model)\n",
    "\n",
    "\n",
    "***"
   ]
  },
  {
   "cell_type": "markdown",
   "metadata": {},
   "source": [
    "## <span style=\"color:blue\">Back to the business problem: let's solve it!</span>\n",
    "## <span style=\"color:blue\">Prepare the data</span>\n",
    "### <span style=\"color:blue\">Step 1 : Model the data</span>\n",
    "\n",
    "The predictions show which offers a customer is most likely to accept, and the confidence that they will accept, depending on each customer’s details.\n",
    "\n",
    "For example:\n",
    "* (139987, \"Pension\", 0.13221, \"Mortgage\", 0.10675) indicates that customer Id=139987 will certainly not buy a _Pension_ as the level is only 13.2%, \n",
    "* (140030, \"Savings\", 0.95678, \"Pension\", 0.84446) is more than likely to buy _Savings_ and a _Pension_ as the rates are 95.7% and 84.4%.\n",
    "\n",
    "This data is taken from a SPSS example, except that the names of the customers were modified.\n",
    "\n",
    "It was uploaded as CSV files on DSX."
   ]
  },
  {
   "cell_type": "markdown",
   "metadata": {},
   "source": [
    "#### Data is coming from a statistic tool. Here we use csv files that are supposedly produced by SPSS for example."
   ]
  },
  {
   "cell_type": "code",
   "execution_count": 1,
   "metadata": {
    "collapsed": false
   },
   "outputs": [],
   "source": [
    "import pandas as pd\n",
    "#channels = read_storage('channels.csv')\n",
    "_names = pd.read_csv(\"https://raw.githubusercontent.com/vberaudi/utwt/master/bank_customers.csv\", names =[\"customerid\",\"name\"])\n",
    "offers = pd.read_csv(\"https://raw.githubusercontent.com/vberaudi/utwt/master/bank_behaviors.csv\", names =[\"customerid\",\"Product1\",\"Confidence1\",\"Product2\",\"Confidence2\"])"
   ]
  },
  {
   "cell_type": "code",
   "execution_count": 2,
   "metadata": {
    "collapsed": false
   },
   "outputs": [],
   "source": [
    "names = { t[0] : t[1] for t in _names.itertuples(index=False)}"
   ]
  },
  {
   "cell_type": "markdown",
   "metadata": {},
   "source": [
    "Data for the marketing campaign."
   ]
  },
  {
   "cell_type": "code",
   "execution_count": 3,
   "metadata": {
    "collapsed": true
   },
   "outputs": [],
   "source": [
    "from IPython.core.display import HTML\n",
    "from IPython.display import display"
   ]
  },
  {
   "cell_type": "code",
   "execution_count": 4,
   "metadata": {
    "collapsed": true
   },
   "outputs": [],
   "source": [
    "products = [\"Car loan\", \"Savings\", \"Mortgage\", \"Pension\"]\n",
    "productValue = [100, 200, 300, 400]\n",
    "budgetShare = [0.6, 0.1, 0.2, 0.1]\n",
    "\n",
    "availableBudget = 500\n",
    "channels =  pd.DataFrame(data=[(\"gift\", 20.0, 0.20), (\"newsletter\", 15.0, 0.05), (\"seminar\", 23.0, 0.30)], columns=[\"name\", \"cost\", \"factor\"])"
   ]
  },
  {
   "cell_type": "code",
   "execution_count": 5,
   "metadata": {
    "collapsed": false
   },
   "outputs": [
    {
     "data": {
      "text/html": [
       "<div>\n",
       "<table border=\"1\" class=\"dataframe\">\n",
       "  <thead>\n",
       "    <tr style=\"text-align: right;\">\n",
       "      <th></th>\n",
       "      <th>name</th>\n",
       "      <th>cost</th>\n",
       "      <th>factor</th>\n",
       "    </tr>\n",
       "  </thead>\n",
       "  <tbody>\n",
       "    <tr>\n",
       "      <th>0</th>\n",
       "      <td>gift</td>\n",
       "      <td>20</td>\n",
       "      <td>0.20</td>\n",
       "    </tr>\n",
       "    <tr>\n",
       "      <th>1</th>\n",
       "      <td>newsletter</td>\n",
       "      <td>15</td>\n",
       "      <td>0.05</td>\n",
       "    </tr>\n",
       "    <tr>\n",
       "      <th>2</th>\n",
       "      <td>seminar</td>\n",
       "      <td>23</td>\n",
       "      <td>0.30</td>\n",
       "    </tr>\n",
       "  </tbody>\n",
       "</table>\n",
       "</div>"
      ],
      "text/plain": [
       "         name  cost  factor\n",
       "0        gift    20    0.20\n",
       "1  newsletter    15    0.05\n",
       "2     seminar    23    0.30"
      ]
     },
     "metadata": {},
     "output_type": "display_data"
    },
    {
     "name": "stdout",
     "output_type": "stream",
     "text": [
      "Budget is 500 $\n"
     ]
    }
   ],
   "source": [
    "display(channels)\n",
    "print(\"Budget is %d $\" %availableBudget)"
   ]
  },
  {
   "cell_type": "code",
   "execution_count": 6,
   "metadata": {
    "collapsed": false,
    "scrolled": true
   },
   "outputs": [],
   "source": [
    "offers.insert(0,'name',pd.Series(names[i[0]] for i in offers.itertuples(index=False)))"
   ]
  },
  {
   "cell_type": "code",
   "execution_count": 7,
   "metadata": {
    "collapsed": false
   },
   "outputs": [],
   "source": [
    "import sys\n",
    "sys.path.append(\"/gpfs/fs01/user/s683-f3dde465f37390-d7318baf8c6d/notebook/work/lib/python2.7/site-packages\")"
   ]
  },
  {
   "cell_type": "markdown",
   "metadata": {},
   "source": [
    "### The data"
   ]
  },
  {
   "cell_type": "markdown",
   "metadata": {},
   "source": [
    "#### Highest expectations per customer"
   ]
  },
  {
   "cell_type": "code",
   "execution_count": 9,
   "metadata": {
    "collapsed": false
   },
   "outputs": [
    {
     "name": "stderr",
     "output_type": "stream",
     "text": [
      "/usr/local/src/bluemix_jupyter_bundle.v36/notebook/lib/python2.7/site-packages/ipykernel/__main__.py:1: FutureWarning: sort(columns=....) is deprecated, use sort_values(by=.....)\n",
      "  if __name__ == '__main__':\n"
     ]
    },
    {
     "data": {
      "text/html": [
       "<div>\n",
       "<table border=\"1\" class=\"dataframe\">\n",
       "  <thead>\n",
       "    <tr style=\"text-align: right;\">\n",
       "      <th></th>\n",
       "      <th>name</th>\n",
       "      <th>Product1</th>\n",
       "      <th>Confidence1</th>\n",
       "      <th>Product2</th>\n",
       "      <th>Confidence2</th>\n",
       "    </tr>\n",
       "  </thead>\n",
       "  <tbody>\n",
       "    <tr>\n",
       "      <th>14</th>\n",
       "      <td>Will Henderson</td>\n",
       "      <td>Savings</td>\n",
       "      <td>0.95678</td>\n",
       "      <td>Pension</td>\n",
       "      <td>0.86779</td>\n",
       "    </tr>\n",
       "    <tr>\n",
       "      <th>1</th>\n",
       "      <td>Michelle M. Lopez</td>\n",
       "      <td>Savings</td>\n",
       "      <td>0.95678</td>\n",
       "      <td>Pension</td>\n",
       "      <td>0.84446</td>\n",
       "    </tr>\n",
       "    <tr>\n",
       "      <th>24</th>\n",
       "      <td>Earl B. Wood</td>\n",
       "      <td>Savings</td>\n",
       "      <td>0.95678</td>\n",
       "      <td>Pension</td>\n",
       "      <td>0.83426</td>\n",
       "    </tr>\n",
       "    <tr>\n",
       "      <th>2</th>\n",
       "      <td>Terry L. Ridgley</td>\n",
       "      <td>Savings</td>\n",
       "      <td>0.95678</td>\n",
       "      <td>Pension</td>\n",
       "      <td>0.80233</td>\n",
       "    </tr>\n",
       "    <tr>\n",
       "      <th>25</th>\n",
       "      <td>Gabrielly Sousa Martins</td>\n",
       "      <td>Savings</td>\n",
       "      <td>0.95678</td>\n",
       "      <td>Pension</td>\n",
       "      <td>0.75925</td>\n",
       "    </tr>\n",
       "  </tbody>\n",
       "</table>\n",
       "</div>"
      ],
      "text/plain": [
       "                       name Product1  Confidence1 Product2  Confidence2\n",
       "14           Will Henderson  Savings      0.95678  Pension      0.86779\n",
       "1         Michelle M. Lopez  Savings      0.95678  Pension      0.84446\n",
       "24             Earl B. Wood  Savings      0.95678  Pension      0.83426\n",
       "2          Terry L. Ridgley  Savings      0.95678  Pension      0.80233\n",
       "25  Gabrielly Sousa Martins  Savings      0.95678  Pension      0.75925"
      ]
     },
     "execution_count": 9,
     "metadata": {},
     "output_type": "execute_result"
    }
   ],
   "source": [
    "offers.drop('customerid',1).sort(columns = ['Confidence1', 'Confidence2'], ascending=False).head()"
   ]
  },
  {
   "cell_type": "markdown",
   "metadata": {},
   "source": [
    "#### Lowest expectations"
   ]
  },
  {
   "cell_type": "code",
   "execution_count": 10,
   "metadata": {
    "collapsed": false
   },
   "outputs": [
    {
     "name": "stderr",
     "output_type": "stream",
     "text": [
      "/usr/local/src/bluemix_jupyter_bundle.v36/notebook/lib/python2.7/site-packages/ipykernel/__main__.py:1: FutureWarning: sort(columns=....) is deprecated, use sort_values(by=.....)\n",
      "  if __name__ == '__main__':\n"
     ]
    },
    {
     "data": {
      "text/html": [
       "<div>\n",
       "<table border=\"1\" class=\"dataframe\">\n",
       "  <thead>\n",
       "    <tr style=\"text-align: right;\">\n",
       "      <th></th>\n",
       "      <th>name</th>\n",
       "      <th>Product1</th>\n",
       "      <th>Confidence1</th>\n",
       "      <th>Product2</th>\n",
       "      <th>Confidence2</th>\n",
       "    </tr>\n",
       "  </thead>\n",
       "  <tbody>\n",
       "    <tr>\n",
       "      <th>0</th>\n",
       "      <td>Guadalupe J. Martinez</td>\n",
       "      <td>Pension</td>\n",
       "      <td>0.13221</td>\n",
       "      <td>Mortgage</td>\n",
       "      <td>0.10675</td>\n",
       "    </tr>\n",
       "    <tr>\n",
       "      <th>3</th>\n",
       "      <td>Miranda B. Roush</td>\n",
       "      <td>Pension</td>\n",
       "      <td>0.13221</td>\n",
       "      <td>Mortgage</td>\n",
       "      <td>0.10675</td>\n",
       "    </tr>\n",
       "    <tr>\n",
       "      <th>5</th>\n",
       "      <td>Roland Guérette</td>\n",
       "      <td>Pension</td>\n",
       "      <td>0.13221</td>\n",
       "      <td>Mortgage</td>\n",
       "      <td>0.10675</td>\n",
       "    </tr>\n",
       "    <tr>\n",
       "      <th>6</th>\n",
       "      <td>Fabien Mailhot</td>\n",
       "      <td>Pension</td>\n",
       "      <td>0.13221</td>\n",
       "      <td>Mortgage</td>\n",
       "      <td>0.10675</td>\n",
       "    </tr>\n",
       "    <tr>\n",
       "      <th>7</th>\n",
       "      <td>Christian Austerlitz</td>\n",
       "      <td>Pension</td>\n",
       "      <td>0.13221</td>\n",
       "      <td>Mortgage</td>\n",
       "      <td>0.10675</td>\n",
       "    </tr>\n",
       "  </tbody>\n",
       "</table>\n",
       "</div>"
      ],
      "text/plain": [
       "                    name Product1  Confidence1  Product2  Confidence2\n",
       "0  Guadalupe J. Martinez  Pension      0.13221  Mortgage      0.10675\n",
       "3       Miranda B. Roush  Pension      0.13221  Mortgage      0.10675\n",
       "5        Roland Guérette  Pension      0.13221  Mortgage      0.10675\n",
       "6         Fabien Mailhot  Pension      0.13221  Mortgage      0.10675\n",
       "7   Christian Austerlitz  Pension      0.13221  Mortgage      0.10675"
      ]
     },
     "execution_count": 10,
     "metadata": {},
     "output_type": "execute_result"
    }
   ],
   "source": [
    "offers.drop('customerid',1).sort(columns = ['Confidence1', 'Confidence2'], ascending=True).head()"
   ]
  },
  {
   "cell_type": "markdown",
   "metadata": {},
   "source": [
    "## <span style=\"color:blue\">Use IBM Decision Optimization CPLEX Modeling for Python</span>\n",
    "\n",
    "Let's create the optimization model to select the best ways to contact customers and stay within the limited budget."
   ]
  },
  {
   "cell_type": "markdown",
   "metadata": {},
   "source": [
    "### <span style=\"color:blue\">Step 1: Set up the prescriptive engine</span>\n",
    "\n",
    "* Subscribe to the Decision Optimization on Cloud solve service [here](https://developer.ibm.com/docloud).\n",
    "* Get the service URL and your personal API key and enter your credentials here:"
   ]
  },
  {
   "cell_type": "markdown",
   "metadata": {},
   "source": [
    "First import *docplex* and set the credentials to solve the model using IBM ILOG CPLEX Optimizer on Cloud.\n",
    "docplex is already installed with its dependancies in XSD."
   ]
  },
  {
   "cell_type": "code",
   "execution_count": 11,
   "metadata": {
    "collapsed": false
   },
   "outputs": [],
   "source": [
    "import sys\n",
    "import docplex.mp"
   ]
  },
  {
   "cell_type": "markdown",
   "metadata": {},
   "source": [
    "### <span style=\"color:blue\">Step 2: Set up the prescriptive model</span>\n",
    "#### <span style=\"color:blue\">Create the model</span>"
   ]
  },
  {
   "cell_type": "code",
   "execution_count": 13,
   "metadata": {
    "collapsed": false
   },
   "outputs": [],
   "source": [
    "from docplex.mp.model import Model\n",
    "\n",
    "mdl = Model(name=\"marketing_campaign\")"
   ]
  },
  {
   "cell_type": "markdown",
   "metadata": {},
   "source": [
    "#### Define the decision variables\n",
    "- The integer decision variables `channelVars`, represent whether or not a customer will be made an offer for a particular product via a particular channel.\n",
    "- The integer decision variable `totaloffers` represents the total number of offers made.\n",
    "- The continuous variable `budgetSpent` represents the total cost of the offers made."
   ]
  },
  {
   "cell_type": "code",
   "execution_count": 14,
   "metadata": {
    "collapsed": false
   },
   "outputs": [],
   "source": [
    "offersR = xrange(0, len(offers))\n",
    "productsR = xrange(0, len(products))\n",
    "channelsR = xrange(0, len(channels))\n",
    "\n",
    "channelVars = mdl.binary_var_cube(offersR, productsR, channelsR)\n",
    "totaloffers = mdl.integer_var()\n",
    "budgetSpent = mdl.continuous_var()\n",
    "budgetMax = mdl.integer_var(lb=availableBudget, ub=availableBudget, name=\"budgetMax\")"
   ]
  },
  {
   "cell_type": "code",
   "execution_count": 15,
   "metadata": {
    "collapsed": false
   },
   "outputs": [
    {
     "name": "stdout",
     "output_type": "stream",
     "text": [
      "we created 326 decision variables for this problem\n"
     ]
    }
   ],
   "source": [
    "print(\"we created %d decision variables for this problem\" %(len(offersR)*len(productsR)*len(channelsR)+1+1))"
   ]
  },
  {
   "cell_type": "markdown",
   "metadata": {},
   "source": [
    "#### Set up the constraints\n",
    "- Offer only one product per customer.\n",
    "- Compute the budget and set a maximum on it.\n",
    "- Compute the number of offers to be made."
   ]
  },
  {
   "cell_type": "code",
   "execution_count": 16,
   "metadata": {
    "collapsed": false,
    "scrolled": true
   },
   "outputs": [
    {
     "name": "stdout",
     "output_type": "stream",
     "text": [
      "Model: marketing_campaign\n",
      " - number of variables: 327\n",
      "   - binary=324, integer=2, continuous=1\n",
      " - number of constraints: 34\n",
      "   - linear=34\n",
      " - parameters: defaults\n"
     ]
    }
   ],
   "source": [
    "# Only 1 product is offered to each customer     \n",
    "mdl.add_constraints( mdl.sum(channelVars[o,p,c] for p in productsR for c in channelsR) <=1\n",
    "                   for o in offersR)\n",
    "\n",
    "mdl.add_constraint( totaloffers == mdl.sum(channelVars[o,p,c] \n",
    "                                           for o in offersR \n",
    "                                           for p in productsR \n",
    "                                           for c in channelsR) )\n",
    "\n",
    "mdl.add_constraint( budgetSpent == mdl.sum(channelVars[o,p,c]*channels.get_value(index=c, col=\"cost\") \n",
    "                                           for o in offersR \n",
    "                                           for p in productsR \n",
    "                                           for c in channelsR) )\n",
    "\n",
    "# Balance the offers among products   \n",
    "for p in productsR:\n",
    "    mdl.add_constraint( mdl.sum(channelVars[o,p,c] for o in offersR for c in channelsR) \n",
    "                       <= budgetShare[p] * totaloffers )\n",
    "            \n",
    "# Do not exceed the budget\n",
    "mdl.add_constraint( mdl.sum(channelVars[o,p,c]*channels.get_value(index=c, col=\"cost\") \n",
    "                            for o in offersR \n",
    "                            for p in productsR \n",
    "                            for c in channelsR)  <= budgetMax )  \n",
    "\n",
    "mdl.print_information()"
   ]
  },
  {
   "cell_type": "markdown",
   "metadata": {},
   "source": [
    "#### Express the objective\n",
    "\n",
    "We want to maximize the expected revenue."
   ]
  },
  {
   "cell_type": "code",
   "execution_count": 17,
   "metadata": {
    "collapsed": true
   },
   "outputs": [],
   "source": [
    "mdl.maximize(\n",
    "    mdl.sum( channelVars[idx,p,idx2] * c.factor * productValue[p]* o.Confidence1  \n",
    "            for p in productsR \n",
    "            for idx,o in offers[offers['Product1'] == products[p]].iterrows()  \n",
    "            for idx2, c in channels.iterrows())\n",
    "    +\n",
    "    mdl.sum( channelVars[idx,p,idx2] * c.factor * productValue[p]* o.Confidence2 \n",
    "            for p in productsR \n",
    "            for idx,o in offers[offers['Product2'] == products[p]].iterrows() \n",
    "            for idx2, c in channels.iterrows())\n",
    "    )"
   ]
  },
  {
   "cell_type": "markdown",
   "metadata": {},
   "source": [
    "#### Solve with the Decision Optimization solve service"
   ]
  },
  {
   "cell_type": "code",
   "execution_count": 18,
   "metadata": {
    "collapsed": false
   },
   "outputs": [],
   "source": [
    "s = mdl.solve()#url=url, key=key)\n",
    "assert s, \"No Solution !!!\""
   ]
  },
  {
   "cell_type": "code",
   "execution_count": 19,
   "metadata": {
    "collapsed": false
   },
   "outputs": [
    {
     "name": "stdout",
     "output_type": "stream",
     "text": [
      "* model solved with objective = 423.148\n"
     ]
    }
   ],
   "source": [
    "mdl.report()"
   ]
  },
  {
   "cell_type": "markdown",
   "metadata": {},
   "source": [
    "### <span style=\"color:blue\">Step 3: Analyze the solution</span>"
   ]
  },
  {
   "cell_type": "code",
   "execution_count": 20,
   "metadata": {
    "collapsed": false
   },
   "outputs": [],
   "source": [
    "def build_report(disp = True):\n",
    "    report = [(channels.get_value(index=c, col=\"name\"), products[p], names[offers.get_value(o, \"customerid\")]) \n",
    "              for c in channelsR \n",
    "              for p in productsR \n",
    "              for o in offersR  if channelVars[o,p,c].solution_value>=0.9]\n",
    "\n",
    "    assert len(report) == totaloffers.solution_value\n",
    "\n",
    "    if disp:\n",
    "        print(\"Marketing plan has {0} offers costing {1}\".format(totaloffers.solution_value, budgetSpent.solution_value))\n",
    "\n",
    "    report_bd = pd.DataFrame(report, columns=['channel', 'product', 'customer'])\n",
    "    #report_bd.head()\n",
    "    return report_bd"
   ]
  },
  {
   "cell_type": "code",
   "execution_count": 21,
   "metadata": {
    "collapsed": false
   },
   "outputs": [
    {
     "name": "stdout",
     "output_type": "stream",
     "text": [
      "Marketing plan has 20 offers costing 364.0\n"
     ]
    }
   ],
   "source": [
    "report_bd = build_report()"
   ]
  },
  {
   "cell_type": "markdown",
   "metadata": {},
   "source": [
    "Then let's **focus on newsletter**. (in fact, seems efficient way to push customers)"
   ]
  },
  {
   "cell_type": "code",
   "execution_count": 22,
   "metadata": {
    "collapsed": false
   },
   "outputs": [
    {
     "data": {
      "text/html": [
       "<div>\n",
       "<table border=\"1\" class=\"dataframe\">\n",
       "  <thead>\n",
       "    <tr style=\"text-align: right;\">\n",
       "      <th></th>\n",
       "      <th>product</th>\n",
       "      <th>customer</th>\n",
       "    </tr>\n",
       "  </thead>\n",
       "  <tbody>\n",
       "    <tr>\n",
       "      <th>0</th>\n",
       "      <td>Car loan</td>\n",
       "      <td>Fabien Mailhot</td>\n",
       "    </tr>\n",
       "    <tr>\n",
       "      <th>1</th>\n",
       "      <td>Car loan</td>\n",
       "      <td>Christian Austerlitz</td>\n",
       "    </tr>\n",
       "    <tr>\n",
       "      <th>2</th>\n",
       "      <td>Car loan</td>\n",
       "      <td>Lee Tsou</td>\n",
       "    </tr>\n",
       "    <tr>\n",
       "      <th>3</th>\n",
       "      <td>Car loan</td>\n",
       "      <td>Sanaa' Hikmah Hakimi</td>\n",
       "    </tr>\n",
       "    <tr>\n",
       "      <th>4</th>\n",
       "      <td>Car loan</td>\n",
       "      <td>George Blomqvist</td>\n",
       "    </tr>\n",
       "    <tr>\n",
       "      <th>5</th>\n",
       "      <td>Car loan</td>\n",
       "      <td>Yuina Ohira</td>\n",
       "    </tr>\n",
       "    <tr>\n",
       "      <th>6</th>\n",
       "      <td>Car loan</td>\n",
       "      <td>Vlad Alekseeva</td>\n",
       "    </tr>\n",
       "    <tr>\n",
       "      <th>7</th>\n",
       "      <td>Car loan</td>\n",
       "      <td>Cassio Lombardo</td>\n",
       "    </tr>\n",
       "    <tr>\n",
       "      <th>8</th>\n",
       "      <td>Car loan</td>\n",
       "      <td>Trinity Zelaya Miramontes</td>\n",
       "    </tr>\n",
       "    <tr>\n",
       "      <th>9</th>\n",
       "      <td>Car loan</td>\n",
       "      <td>Eldar Muravyov</td>\n",
       "    </tr>\n",
       "    <tr>\n",
       "      <th>10</th>\n",
       "      <td>Car loan</td>\n",
       "      <td>Jameel Abdul-Ghani Gerges</td>\n",
       "    </tr>\n",
       "    <tr>\n",
       "      <th>11</th>\n",
       "      <td>Car loan</td>\n",
       "      <td>Zeeb Longoria Marrero</td>\n",
       "    </tr>\n",
       "  </tbody>\n",
       "</table>\n",
       "</div>"
      ],
      "text/plain": [
       "     product                   customer\n",
       "0   Car loan             Fabien Mailhot\n",
       "1   Car loan       Christian Austerlitz\n",
       "2   Car loan                   Lee Tsou\n",
       "3   Car loan       Sanaa' Hikmah Hakimi\n",
       "4   Car loan           George Blomqvist\n",
       "5   Car loan                Yuina Ohira\n",
       "6   Car loan             Vlad Alekseeva\n",
       "7   Car loan            Cassio Lombardo\n",
       "8   Car loan  Trinity Zelaya Miramontes\n",
       "9   Car loan             Eldar Muravyov\n",
       "10  Car loan  Jameel Abdul-Ghani Gerges\n",
       "11  Car loan      Zeeb Longoria Marrero"
      ]
     },
     "metadata": {},
     "output_type": "display_data"
    }
   ],
   "source": [
    "display(report_bd[report_bd['channel'] == \"newsletter\"].drop('channel',1))"
   ]
  },
  {
   "cell_type": "code",
   "execution_count": 23,
   "metadata": {
    "collapsed": false
   },
   "outputs": [
    {
     "data": {
      "text/html": [
       "<div>\n",
       "<table border=\"1\" class=\"dataframe\">\n",
       "  <thead>\n",
       "    <tr style=\"text-align: right;\">\n",
       "      <th></th>\n",
       "      <th>product</th>\n",
       "      <th>customer</th>\n",
       "    </tr>\n",
       "  </thead>\n",
       "  <tbody>\n",
       "    <tr>\n",
       "      <th>12</th>\n",
       "      <td>Savings</td>\n",
       "      <td>Terry L. Ridgley</td>\n",
       "    </tr>\n",
       "    <tr>\n",
       "      <th>13</th>\n",
       "      <td>Savings</td>\n",
       "      <td>Gabrielly Sousa Martins</td>\n",
       "    </tr>\n",
       "    <tr>\n",
       "      <th>14</th>\n",
       "      <td>Mortgage</td>\n",
       "      <td>Miranda B. Roush</td>\n",
       "    </tr>\n",
       "    <tr>\n",
       "      <th>15</th>\n",
       "      <td>Mortgage</td>\n",
       "      <td>Miroslav Škaroupka</td>\n",
       "    </tr>\n",
       "    <tr>\n",
       "      <th>16</th>\n",
       "      <td>Mortgage</td>\n",
       "      <td>Matheus Azevedo Melo</td>\n",
       "    </tr>\n",
       "    <tr>\n",
       "      <th>17</th>\n",
       "      <td>Mortgage</td>\n",
       "      <td>Franca Palermo</td>\n",
       "    </tr>\n",
       "    <tr>\n",
       "      <th>18</th>\n",
       "      <td>Pension</td>\n",
       "      <td>Michelle M. Lopez</td>\n",
       "    </tr>\n",
       "    <tr>\n",
       "      <th>19</th>\n",
       "      <td>Pension</td>\n",
       "      <td>Will Henderson</td>\n",
       "    </tr>\n",
       "  </tbody>\n",
       "</table>\n",
       "</div>"
      ],
      "text/plain": [
       "     product                 customer\n",
       "12   Savings         Terry L. Ridgley\n",
       "13   Savings  Gabrielly Sousa Martins\n",
       "14  Mortgage         Miranda B. Roush\n",
       "15  Mortgage       Miroslav Škaroupka\n",
       "16  Mortgage     Matheus Azevedo Melo\n",
       "17  Mortgage           Franca Palermo\n",
       "18   Pension        Michelle M. Lopez\n",
       "19   Pension           Will Henderson"
      ]
     },
     "metadata": {},
     "output_type": "display_data"
    }
   ],
   "source": [
    "display(report_bd[report_bd['channel'] == \"seminar\"].drop('channel',1))"
   ]
  },
  {
   "cell_type": "markdown",
   "metadata": {},
   "source": [
    "#### Playing naive What-if analysis\n",
    "* We will now make the allowed budget move and see what happens."
   ]
  },
  {
   "cell_type": "markdown",
   "metadata": {},
   "source": [
    "First, we add some kpis to get the total number of offers, the number of gitfs, seminar..."
   ]
  },
  {
   "cell_type": "code",
   "execution_count": 24,
   "metadata": {
    "collapsed": false
   },
   "outputs": [],
   "source": [
    "mdl.add_kpi(totaloffers, \"nb_offers\")\n",
    "mdl.add_kpi(budgetSpent, \"budgetSpent\")\n",
    "for c in channelsR:\n",
    "    channel = channels.get_value(index=c, col=\"name\")\n",
    "    kpi = mdl.sum(channelVars[o,p,c] for p in productsR for o in offersR)\n",
    "    mdl.add_kpi(kpi, channel)"
   ]
  },
  {
   "cell_type": "code",
   "execution_count": 25,
   "metadata": {
    "collapsed": true
   },
   "outputs": [],
   "source": [
    "def what_if(model = None, max_budget=500, disp=True):\n",
    "    assert model\n",
    "    var = model.get_var_by_name(\"budgetMax\")\n",
    "    var.lb =  max_budget\n",
    "    var.ub = max_budget\n",
    "    s = model.solve()#url=url, key=key)\n",
    "    model.report()\n",
    "    \n",
    "    if disp:\n",
    "        report_bd = build_report(disp = disp)\n",
    "        display(report_bd[report_bd['channel'] == \"seminar\"].drop('channel',1))\n",
    "    return (model.kpi_value_by_name(\"budgetSpent\"), \\\n",
    "            model.kpi_value_by_name(\"nb_offers\"), \\\n",
    "            model.kpi_value_by_name(\"gift\"), \\\n",
    "            model.kpi_value_by_name(\"newsletter\"), \\\n",
    "            model.kpi_value_by_name(\"seminar\"))"
   ]
  },
  {
   "cell_type": "code",
   "execution_count": 26,
   "metadata": {
    "collapsed": false,
    "scrolled": true
   },
   "outputs": [
    {
     "name": "stdout",
     "output_type": "stream",
     "text": [
      "* model solved with objective = 245.191\n",
      "*  KPI: nb_offers   = 10.000\n",
      "*  KPI: budgetSpent = 182.000\n",
      "*  KPI: gift        = 0.000\n",
      "*  KPI: newsletter  = 6.000\n",
      "*  KPI: seminar     = 4.000\n"
     ]
    }
   ],
   "source": [
    "x250 = what_if(model= mdl, max_budget=250, disp=False)"
   ]
  },
  {
   "cell_type": "code",
   "execution_count": 27,
   "metadata": {
    "collapsed": false,
    "scrolled": false
   },
   "outputs": [
    {
     "name": "stdout",
     "output_type": "stream",
     "text": [
      "* model solved with objective = 423.148\n",
      "*  KPI: nb_offers   = 20.000\n",
      "*  KPI: budgetSpent = 433.000\n",
      "*  KPI: gift        = 1.000\n",
      "*  KPI: newsletter  = 3.000\n",
      "*  KPI: seminar     = 16.000\n"
     ]
    }
   ],
   "source": [
    "x1000 = what_if(model= mdl, max_budget=1000, disp=False)"
   ]
  },
  {
   "cell_type": "code",
   "execution_count": 28,
   "metadata": {
    "collapsed": false
   },
   "outputs": [
    {
     "data": {
      "text/html": [
       "<div>\n",
       "<table border=\"1\" class=\"dataframe\">\n",
       "  <thead>\n",
       "    <tr style=\"text-align: right;\">\n",
       "      <th></th>\n",
       "      <th>budgetSpent</th>\n",
       "      <th>nb_offers</th>\n",
       "      <th>nb_gift</th>\n",
       "      <th>nb_newsletter</th>\n",
       "      <th>nb_seminar</th>\n",
       "    </tr>\n",
       "  </thead>\n",
       "  <tbody>\n",
       "    <tr>\n",
       "      <th>0</th>\n",
       "      <td>182</td>\n",
       "      <td>10</td>\n",
       "      <td>0</td>\n",
       "      <td>6</td>\n",
       "      <td>4</td>\n",
       "    </tr>\n",
       "    <tr>\n",
       "      <th>1</th>\n",
       "      <td>433</td>\n",
       "      <td>20</td>\n",
       "      <td>1</td>\n",
       "      <td>3</td>\n",
       "      <td>16</td>\n",
       "    </tr>\n",
       "  </tbody>\n",
       "</table>\n",
       "</div>"
      ],
      "text/plain": [
       "   budgetSpent  nb_offers  nb_gift  nb_newsletter  nb_seminar\n",
       "0          182         10        0              6           4\n",
       "1          433         20        1              3          16"
      ]
     },
     "metadata": {},
     "output_type": "display_data"
    }
   ],
   "source": [
    "display(pd.DataFrame([x250, x1000], columns=[\"budgetSpent\", \"nb_offers\", \"nb_gift\", \"nb_newsletter\", \"nb_seminar\"]))"
   ]
  },
  {
   "cell_type": "markdown",
   "metadata": {},
   "source": [
    "#### The following models are run in parralel on docplexcloud.\n",
    "* The idea is to launch dozens of models with increasing budget to detect the maximum expense we can imagine"
   ]
  },
  {
   "cell_type": "code",
   "execution_count": 30,
   "metadata": {
    "collapsed": true
   },
   "outputs": [],
   "source": [
    "r = range(20)"
   ]
  },
  {
   "cell_type": "markdown",
   "metadata": {},
   "source": [
    "We clone the model, modif the budget bound and push it in a process executor to be solved in //"
   ]
  },
  {
   "cell_type": "code",
   "execution_count": 31,
   "metadata": {
    "collapsed": false
   },
   "outputs": [],
   "source": [
    "import sys\n",
    "#import redis\n",
    "import concurrent.futures\n",
    "\n",
    "ret = []\n",
    "\n",
    "def what_if2(max_budget=500):\n",
    "    model = mdl.copy()\n",
    "    var = model.get_var_by_name(\"budgetMax\")\n",
    "    var.lb =  max_budget\n",
    "    var.ub = max_budget\n",
    "    s = model.solve()#url=url, key=key)\n",
    "  \n",
    "    return (max_budget, \\\n",
    "            model.kpi_value_by_name(\"budgetSpent\"), \\\n",
    "            model.kpi_value_by_name(\"nb_offers\"), \\\n",
    "            model.kpi_value_by_name(\"gift\"), \\\n",
    "            model.kpi_value_by_name(\"newsletter\"), \\\n",
    "            model.kpi_value_by_name(\"seminar\")\n",
    "           )\n",
    "\n",
    "\n",
    "with concurrent.futures.ProcessPoolExecutor(max_workers=4) as executor:    \n",
    "        jobs = [executor.submit(what_if2, max_budget=100+50*i) for i in r]\n",
    "        for future in concurrent.futures.as_completed(jobs):\n",
    "            ret.append(future.result())\n",
    "\n",
    "\n",
    "index=[\"Budget\", \"budgetSpent\", \"nb_offers\", \"nb_gift\", \"nb_newsletter\", \"nb_seminar\"]\n",
    "what_pd = pd.DataFrame(data = ret, columns=index)"
   ]
  },
  {
   "cell_type": "code",
   "execution_count": 35,
   "metadata": {
    "collapsed": false,
    "scrolled": true
   },
   "outputs": [
    {
     "name": "stderr",
     "output_type": "stream",
     "text": [
      "/usr/local/src/bluemix_jupyter_bundle.v36/notebook/lib/python2.7/site-packages/ipykernel/__main__.py:1: FutureWarning: sort(columns=....) is deprecated, use sort_values(by=.....)\n",
      "  if __name__ == '__main__':\n"
     ]
    }
   ],
   "source": [
    "what_pd = what_pd.sort(columns = ['Budget'], ascending=True)"
   ]
  },
  {
   "cell_type": "code",
   "execution_count": 33,
   "metadata": {
    "collapsed": false,
    "scrolled": true
   },
   "outputs": [
    {
     "data": {
      "text/plain": [
       "<matplotlib.axes._subplots.AxesSubplot at 0x7f6fd87db4d0>"
      ]
     },
     "execution_count": 33,
     "metadata": {},
     "output_type": "execute_result"
    },
    {
     "data": {
      "image/png": "[encoded data removed]",
      "text/plain": [
       "<matplotlib.figure.Figure at 0x7f6fd87cb990>"
      ]
     },
     "metadata": {},
     "output_type": "display_data"
    }
   ],
   "source": [
    "#display(what_pd.sort(columns = ['Budget'], ascending=True))\n",
    "%matplotlib inline\n",
    "import matplotlib\n",
    "matplotlib.style.use('ggplot')\n",
    "\n",
    "what_pd.plot(x='Budget', y='budgetSpent')"
   ]
  },
  {
   "cell_type": "markdown",
   "metadata": {},
   "source": [
    "### Conclusion\n",
    "For this dataset, the **maximum budget to be spent is around 630$**"
   ]
  },
  {
   "cell_type": "markdown",
   "metadata": {
    "collapsed": true
   },
   "source": [
    "## References\n",
    "* [CPLEX Modeling for Python documentation](https://rawgit.com/IBMDecisionOptimization/docplex-doc/master/docs/index.html)\n",
    "* [Decision Optimization on Cloud](https://developer.ibm.com/docloud/)\n",
    "* Need help with DOcplex or to report a bug? Please go [here](https://developer.ibm.com/answers/smartspace/docloud).\n",
    "* Contact us at dofeedback@wwpdl.vnet.ibm.com."
   ]
  }
 ],
 "metadata": {
  "celltoolbar": "Dashboard",
  "gist_id": "6011986",
  "kernelspec": {
   "display_name": "Python 2 with Spark 2.0",
   "language": "python",
   "name": "python2-spark20"
  },
  "language_info": {
   "codemirror_mode": {
    "name": "ipython",
    "version": 2
   },
   "file_extension": ".py",
   "mimetype": "text/x-python",
   "name": "python",
   "nbconvert_exporter": "python",
   "pygments_lexer": "ipython2",
   "version": "2.7.11"
  }
 },
 "nbformat": 4,
 "nbformat_minor": 0
}